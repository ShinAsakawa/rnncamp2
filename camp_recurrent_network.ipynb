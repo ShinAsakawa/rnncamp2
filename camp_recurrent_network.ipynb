{
 "cells": [
  {
   "cell_type": "code",
   "execution_count": 1,
   "metadata": {
    "collapsed": false
   },
   "outputs": [
    {
     "data": {
      "text/plain": [
       "'\\nA Reccurent Neural Network (LSTM) implementation example using TensorFlow library.\\nThis example is using the MNIST database of handwritten digits (http://yann.lecun.com/exdb/mnist/)\\nLong Short Term Memory paper: http://deeplearning.cs.cmu.edu/pdfs/Hochreiter97_lstm.pdf\\n\\nAuthor: Aymeric Damien\\nProject: https://github.com/aymericdamien/TensorFlow-Examples/\\n'"
      ]
     },
     "execution_count": 1,
     "metadata": {},
     "output_type": "execute_result"
    }
   ],
   "source": [
    "'''\n",
    "A Reccurent Neural Network (LSTM) implementation example using TensorFlow library.\n",
    "This example is using the MNIST database of handwritten digits (http://yann.lecun.com/exdb/mnist/)\n",
    "Long Short Term Memory paper: http://deeplearning.cs.cmu.edu/pdfs/Hochreiter97_lstm.pdf\n",
    "\n",
    "Author: Aymeric Damien\n",
    "Project: https://github.com/aymericdamien/TensorFlow-Examples/\n",
    "'''"
   ]
  },
  {
   "cell_type": "code",
   "execution_count": 2,
   "metadata": {
    "collapsed": false
   },
   "outputs": [
    {
     "name": "stdout",
     "output_type": "stream",
     "text": [
      "Extracting /Users/asakawa/study/2016aymericdamien_TensorFlow-Examples/notebooks/data/train-images-idx3-ubyte.gz\n",
      "Extracting /Users/asakawa/study/2016aymericdamien_TensorFlow-Examples/notebooks/data/train-labels-idx1-ubyte.gz\n",
      "Extracting /Users/asakawa/study/2016aymericdamien_TensorFlow-Examples/notebooks/data/t10k-images-idx3-ubyte.gz\n",
      "Extracting /Users/asakawa/study/2016aymericdamien_TensorFlow-Examples/notebooks/data/t10k-labels-idx1-ubyte.gz\n"
     ]
    }
   ],
   "source": [
    "import tensorflow as tf\n",
    "#from tensorflow.python.ops import rnn, rnn_cell\n",
    "import camp_rnn\n",
    "import camp_rnn_cell\n",
    "import numpy as np\n",
    "\n",
    "# Import MINST data\n",
    "from tensorflow.examples.tutorials.mnist import input_data\n",
    "# You must change an adequate directory to execute\n",
    "campdatadir = \"/Users/asakawa/study/2016aymericdamien_TensorFlow-Examples/notebooks/data/\"\n",
    "mnist = input_data.read_data_sets(campdatadir, one_hot=True)"
   ]
  },
  {
   "cell_type": "code",
   "execution_count": 3,
   "metadata": {
    "collapsed": false
   },
   "outputs": [
    {
     "data": {
      "text/plain": [
       "'\\nTo classify images using a reccurent neural network, we consider every image\\nrow as a sequence of pixels. Because MNIST image shape is 28*28px, we will then\\nhandle 28 sequences of 28 steps for every sample.\\n'"
      ]
     },
     "execution_count": 3,
     "metadata": {},
     "output_type": "execute_result"
    }
   ],
   "source": [
    "'''\n",
    "To classify images using a reccurent neural network, we consider every image\n",
    "row as a sequence of pixels. Because MNIST image shape is 28*28px, we will then\n",
    "handle 28 sequences of 28 steps for every sample.\n",
    "'''"
   ]
  },
  {
   "cell_type": "code",
   "execution_count": 4,
   "metadata": {
    "collapsed": true
   },
   "outputs": [],
   "source": [
    "# Parameters\n",
    "learning_rate = 0.001\n",
    "# training_iters = 100000\n",
    "training_iters = 50000\n",
    "batch_size = 128\n",
    "display_step = 10\n",
    "\n",
    "# Network Parameters\n",
    "n_input = 28 # MNIST data input (img shape: 28*28)\n",
    "n_steps = 28 # timesteps\n",
    "n_hidden = 128 # hidden layer num of features\n",
    "n_classes = 10 # MNIST total classes (0-9 digits)\n",
    "\n",
    "# tf Graph input\n",
    "x = tf.placeholder(\"float\", [None, n_steps, n_input])\n",
    "y = tf.placeholder(\"float\", [None, n_classes])\n",
    "\n",
    "# Define weights\n",
    "weights = {\n",
    "    'out': tf.Variable(tf.random_normal([n_hidden, n_classes]))\n",
    "}\n",
    "biases = {\n",
    "    'out': tf.Variable(tf.random_normal([n_classes]))\n",
    "}"
   ]
  },
  {
   "cell_type": "code",
   "execution_count": 5,
   "metadata": {
    "collapsed": false
   },
   "outputs": [
    {
     "name": "stderr",
     "output_type": "stream",
     "text": [
      "WARNING:tensorflow:<camp_rnn_cell.BasicLSTMCell object at 0x1193801d0>: Using a concatenated state is slower and will soon be deprecated.  Use state_is_tuple=True.\n"
     ]
    }
   ],
   "source": [
    "def RNN(x, weights, biases):\n",
    "\n",
    "    # Prepare data shape to match `rnn` function requirements\n",
    "    # Current data input shape: (batch_size, n_steps, n_input)\n",
    "    # Required shape: 'n_steps' tensors list of shape (batch_size, n_input)\n",
    "    \n",
    "    # Permuting batch_size and n_steps\n",
    "    x = tf.transpose(x, [1, 0, 2])\n",
    "    # Reshaping to (n_steps*batch_size, n_input)\n",
    "    x = tf.reshape(x, [-1, n_input])\n",
    "    # Split to get a list of 'n_steps' tensors of shape (batch_size, n_input)\n",
    "    x = tf.split(0, n_steps, x)\n",
    "\n",
    "    # Define a lstm cell with tensorflow\n",
    "    # lstm_cell = rnn_cell.BasicLSTMCell(n_hidden, forget_bias=1.0)\n",
    "    lstm_cell = camp_rnn_cell.BasicLSTMCell(n_hidden, forget_bias=1.0)\n",
    "\n",
    "    # Get lstm cell output\n",
    "    # outputs, states = rnn.rnn(lstm_cell, x, dtype=tf.float32, state_is_tuple=True)\n",
    "    outputs, states = camp_rnn.rnn(lstm_cell, x, dtype=tf.float32)\n",
    "\n",
    "    # Linear activation, using rnn inner loop last output\n",
    "    return tf.matmul(outputs[-1], weights['out']) + biases['out']\n",
    "\n",
    "pred = RNN(x, weights, biases)\n",
    "\n",
    "# Define loss and optimizer\n",
    "cost = tf.reduce_mean(tf.nn.softmax_cross_entropy_with_logits(pred, y))\n",
    "optimizer = tf.train.AdamOptimizer(learning_rate=learning_rate).minimize(cost)\n",
    "\n",
    "# Evaluate model\n",
    "correct_pred = tf.equal(tf.argmax(pred,1), tf.argmax(y,1))\n",
    "accuracy = tf.reduce_mean(tf.cast(correct_pred, tf.float32))\n",
    "\n",
    "# Initializing the variables\n",
    "init = tf.initialize_all_variables()"
   ]
  },
  {
   "cell_type": "code",
   "execution_count": 6,
   "metadata": {
    "collapsed": false
   },
   "outputs": [
    {
     "name": "stdout",
     "output_type": "stream",
     "text": [
      "Iter 1280, Minibatch Loss= 1.753336, Training Accuracy= 0.38281\n",
      "Iter 2560, Minibatch Loss= 1.477289, Training Accuracy= 0.50000\n",
      "Iter 3840, Minibatch Loss= 1.149575, Training Accuracy= 0.65625\n",
      "Iter 5120, Minibatch Loss= 0.898244, Training Accuracy= 0.69531\n",
      "Iter 6400, Minibatch Loss= 0.711363, Training Accuracy= 0.76562\n",
      "Iter 7680, Minibatch Loss= 1.046246, Training Accuracy= 0.61719\n",
      "Iter 8960, Minibatch Loss= 0.745515, Training Accuracy= 0.75000\n",
      "Iter 10240, Minibatch Loss= 0.619695, Training Accuracy= 0.80469\n",
      "Iter 11520, Minibatch Loss= 0.375699, Training Accuracy= 0.90625\n",
      "Iter 12800, Minibatch Loss= 0.555178, Training Accuracy= 0.80469\n",
      "Iter 14080, Minibatch Loss= 0.416503, Training Accuracy= 0.87500\n",
      "Iter 15360, Minibatch Loss= 0.315126, Training Accuracy= 0.89844\n",
      "Iter 16640, Minibatch Loss= 0.486687, Training Accuracy= 0.89062\n",
      "Iter 17920, Minibatch Loss= 0.282827, Training Accuracy= 0.90625\n",
      "Iter 19200, Minibatch Loss= 0.211491, Training Accuracy= 0.89844\n",
      "Iter 20480, Minibatch Loss= 0.144063, Training Accuracy= 0.95312\n",
      "Iter 21760, Minibatch Loss= 0.361643, Training Accuracy= 0.86719\n",
      "Iter 23040, Minibatch Loss= 0.133351, Training Accuracy= 0.96094\n",
      "Iter 24320, Minibatch Loss= 0.378414, Training Accuracy= 0.85156\n",
      "Iter 25600, Minibatch Loss= 0.344797, Training Accuracy= 0.90625\n",
      "Iter 26880, Minibatch Loss= 0.216399, Training Accuracy= 0.92969\n",
      "Iter 28160, Minibatch Loss= 0.229838, Training Accuracy= 0.92188\n",
      "Iter 29440, Minibatch Loss= 0.284977, Training Accuracy= 0.93750\n",
      "Iter 30720, Minibatch Loss= 0.271136, Training Accuracy= 0.92188\n",
      "Iter 32000, Minibatch Loss= 0.184922, Training Accuracy= 0.93750\n",
      "Iter 33280, Minibatch Loss= 0.261195, Training Accuracy= 0.90625\n",
      "Iter 34560, Minibatch Loss= 0.212826, Training Accuracy= 0.94531\n",
      "Iter 35840, Minibatch Loss= 0.208793, Training Accuracy= 0.93750\n",
      "Iter 37120, Minibatch Loss= 0.261795, Training Accuracy= 0.90625\n",
      "Iter 38400, Minibatch Loss= 0.105964, Training Accuracy= 0.96875\n",
      "Iter 39680, Minibatch Loss= 0.145909, Training Accuracy= 0.96875\n",
      "Iter 40960, Minibatch Loss= 0.257936, Training Accuracy= 0.89844\n",
      "Iter 42240, Minibatch Loss= 0.176787, Training Accuracy= 0.94531\n",
      "Iter 43520, Minibatch Loss= 0.129582, Training Accuracy= 0.95312\n",
      "Iter 44800, Minibatch Loss= 0.219197, Training Accuracy= 0.93750\n",
      "Iter 46080, Minibatch Loss= 0.100815, Training Accuracy= 0.98438\n",
      "Iter 47360, Minibatch Loss= 0.241501, Training Accuracy= 0.94531\n",
      "Iter 48640, Minibatch Loss= 0.237640, Training Accuracy= 0.92188\n",
      "Iter 49920, Minibatch Loss= 0.239213, Training Accuracy= 0.92969\n",
      "Optimization Finished!\n",
      "Testing Accuracy: 0.96875\n"
     ]
    }
   ],
   "source": [
    "# Launch the graph\n",
    "with tf.Session() as sess:\n",
    "    sess.run(init)\n",
    "    step = 1\n",
    "    # Keep training until reach max iterations\n",
    "    while step * batch_size < training_iters:\n",
    "        batch_x, batch_y = mnist.train.next_batch(batch_size)\n",
    "        # Reshape data to get 28 seq of 28 elements\n",
    "        batch_x = batch_x.reshape((batch_size, n_steps, n_input))\n",
    "        # Run optimization op (backprop)\n",
    "        sess.run(optimizer, feed_dict={x: batch_x, y: batch_y})\n",
    "        if step % display_step == 0:\n",
    "            # Calculate batch accuracy\n",
    "            acc = sess.run(accuracy, feed_dict={x: batch_x, y: batch_y})\n",
    "            # Calculate batch loss\n",
    "            loss = sess.run(cost, feed_dict={x: batch_x, y: batch_y})\n",
    "            print \"Iter \" + str(step*batch_size) + \", Minibatch Loss= \" + \\\n",
    "                  \"{:.6f}\".format(loss) + \", Training Accuracy= \" + \\\n",
    "                  \"{:.5f}\".format(acc)\n",
    "        step += 1\n",
    "    print \"Optimization Finished!\"\n",
    "\n",
    "    # Calculate accuracy for 128 mnist test images\n",
    "    test_len = 128\n",
    "    test_data = mnist.test.images[:test_len].reshape((-1, n_steps, n_input))\n",
    "    test_label = mnist.test.labels[:test_len]\n",
    "    print \"Testing Accuracy:\", \\\n",
    "        sess.run(accuracy, feed_dict={x: test_data, y: test_label})"
   ]
  },
  {
   "cell_type": "code",
   "execution_count": null,
   "metadata": {
    "collapsed": true
   },
   "outputs": [],
   "source": []
  }
 ],
 "metadata": {
  "anaconda-cloud": {},
  "kernelspec": {
   "display_name": "Python [default]",
   "language": "python",
   "name": "python2"
  },
  "language_info": {
   "codemirror_mode": {
    "name": "ipython",
    "version": 2
   },
   "file_extension": ".py",
   "mimetype": "text/x-python",
   "name": "python",
   "nbconvert_exporter": "python",
   "pygments_lexer": "ipython2",
   "version": "2.7.12"
  }
 },
 "nbformat": 4,
 "nbformat_minor": 0
}
